{
 "cells": [
  {
   "cell_type": "code",
   "execution_count": 1,
   "metadata": {},
   "outputs": [],
   "source": [
    "import numpy as np\n",
    "import matplotlib.pyplot as plt\n",
    "import mltools as ml\n",
    "\n",
    "from sklearn.neighbors import KNeighborsClassifier\n",
    "from sklearn.ensemble import RandomForestClassifier\n",
    "from sklearn.ensemble import GradientBoostingClassifier\n",
    "\n",
    "from sklearn.metrics import roc_curve, auc\n",
    "from sklearn.utils import shuffle\n",
    "from sklearn.model_selection import train_test_split\n",
    "from sklearn import metrics\n",
    "from sklearn.model_selection import GridSearchCV"
   ]
  },
  {
   "cell_type": "code",
   "execution_count": 2,
   "metadata": {},
   "outputs": [],
   "source": [
    "X = np.genfromtxt(\"data/X_train.txt\")\n",
    "Y = np.genfromtxt(\"data/Y_train.txt\")\n",
    "X, Y = ml.shuffleData(X, Y)\n",
    "Xte = np.genfromtxt(\"data/X_test.txt\")\n",
    "\n",
    "Xtr, Xva, Ytr, Yva = ml.splitData(X, Y, 0.75)"
   ]
  },
  {
   "cell_type": "code",
   "execution_count": 48,
   "metadata": {},
   "outputs": [
    {
     "data": {
      "text/plain": [
       "KNeighborsClassifier(n_jobs=1, n_neighbors=7, p=1)"
      ]
     },
     "execution_count": 48,
     "metadata": {},
     "output_type": "execute_result"
    }
   ],
   "source": [
    "neigh = KNeighborsClassifier(n_neighbors = 7,algorithm='auto',leaf_size = 30, metric = 'minkowski', metric_params=None, n_jobs=1,p=1, weights='uniform')\n",
    "neigh.fit(Xtr, Ytr)\n",
    "\n",
    "#prediction = neigh.predict_proba(Xtr)\n",
    "#predictions = np.mean(np.array([prediction]), axis=0)\n",
    "\n",
    "#false_positive_rate, true_positive_rate, thresholds = roc_curve(Ytr, predictions[:, 1])\n",
    "#roc_auc = auc(false_positive_rate, true_positive_rate)\n",
    "#print(roc_auc)\n",
    "\n",
    "\n"
   ]
  },
  {
   "cell_type": "code",
   "execution_count": 3,
   "metadata": {},
   "outputs": [
    {
     "data": {
      "text/plain": [
       "RandomForestClassifier(max_depth=18, max_samples=0.9, n_estimators=500)"
      ]
     },
     "execution_count": 3,
     "metadata": {},
     "output_type": "execute_result"
    }
   ],
   "source": [
    "#Randforest\n",
    "rf = RandomForestClassifier(n_estimators=500, max_depth=18, max_samples=0.9)\n",
    "rf.fit(X, Y)\n",
    "\n",
    "#prediction = rf.predict_proba(X)\n",
    "#predictions = np.mean(np.array([prediction]), axis=0)\n",
    "\n",
    "#false_positive_rate, true_positive_rate, thresholds = roc_curve(Y, predictions[:, 1])\n",
    "#roc_auc = auc(false_positive_rate, true_positive_rate)\n",
    "#print(roc_auc)"
   ]
  },
  {
   "cell_type": "code",
   "execution_count": 4,
   "metadata": {},
   "outputs": [
    {
     "name": "stdout",
     "output_type": "stream",
     "text": [
      "      Iter       Train Loss   Remaining Time \n",
      "         1           1.2607           14.76m\n",
      "         2           1.2395           14.78m\n",
      "         3           1.2222           14.76m\n",
      "         4           1.2065           14.63m\n",
      "         5           1.1927           14.58m\n",
      "         6           1.1814           14.54m\n",
      "         7           1.1713           14.48m\n",
      "         8           1.1620           14.49m\n",
      "         9           1.1540           14.47m\n",
      "        10           1.1468           14.46m\n",
      "        20           1.0991           14.29m\n",
      "        30           1.0689           13.98m\n",
      "        40           1.0489           13.77m\n",
      "        50           1.0316           13.58m\n",
      "        60           1.0177           13.48m\n",
      "        70           1.0067           13.44m\n",
      "        80           0.9969           13.38m\n",
      "        90           0.9877           13.34m\n",
      "       100           0.9777           13.23m\n",
      "       200           0.8974           11.48m\n",
      "       300           0.8359            9.63m\n",
      "       400           0.7884            7.75m\n",
      "       500           0.7509            5.84m\n",
      "       600           0.7149            3.89m\n",
      "       700           0.6853            1.95m\n",
      "       800           0.6589            0.00s\n"
     ]
    }
   ],
   "source": [
    "#GradientBoost\n",
    "\n",
    "gb = GradientBoostingClassifier(n_estimators=800, learning_rate=0.1, max_depth=9, random_state=0, verbose=1).fit(X, Y)\n"
   ]
  },
  {
   "cell_type": "code",
   "execution_count": 5,
   "metadata": {},
   "outputs": [
    {
     "name": "stdout",
     "output_type": "stream",
     "text": [
      "[Voting] .................. (1 of 2) Processing rforest, total= 2.3min\n",
      "      Iter       Train Loss   Remaining Time \n",
      "         1           1.2607           14.50m\n",
      "         2           1.2395           14.56m\n",
      "         3           1.2222           14.58m\n",
      "         4           1.2065           14.47m\n",
      "         5           1.1927           14.41m\n",
      "         6           1.1814           14.39m\n",
      "         7           1.1713           14.35m\n",
      "         8           1.1620           14.34m\n",
      "         9           1.1540           14.30m\n",
      "        10           1.1468           14.32m\n",
      "        20           1.0991           14.17m\n",
      "        30           1.0689           13.89m\n",
      "        40           1.0489           13.72m\n",
      "        50           1.0316           13.54m\n",
      "        60           1.0177           13.45m\n",
      "        70           1.0067           13.41m\n",
      "        80           0.9969           13.34m\n",
      "        90           0.9877           13.29m\n",
      "       100           0.9777           13.20m\n",
      "       200           0.8974           11.49m\n",
      "       300           0.8359            9.83m\n",
      "       400           0.7884            7.86m\n",
      "       500           0.7509            5.90m\n",
      "       600           0.7149            3.92m\n",
      "       700           0.6853            1.96m\n",
      "       800           0.6589            0.00s\n",
      "[Voting] ................... (2 of 2) Processing gboost, total=15.7min\n"
     ]
    },
    {
     "data": {
      "text/plain": [
       "VotingClassifier(estimators=[('rforest',\n",
       "                              RandomForestClassifier(max_depth=18,\n",
       "                                                     max_samples=0.9,\n",
       "                                                     n_estimators=500)),\n",
       "                             ('gboost',\n",
       "                              GradientBoostingClassifier(max_depth=9,\n",
       "                                                         n_estimators=800,\n",
       "                                                         random_state=0,\n",
       "                                                         verbose=1))],\n",
       "                 verbose=True, voting='soft')"
      ]
     },
     "execution_count": 5,
     "metadata": {},
     "output_type": "execute_result"
    }
   ],
   "source": [
    "from sklearn.ensemble import VotingClassifier\n",
    "\n",
    "estimators=[(\"rforest\", rf), (\"gboost\", gb)]\n",
    "ensemble = VotingClassifier(estimators, voting=\"soft\", verbose = True)\n",
    "ensemble.fit(X,Y)"
   ]
  },
  {
   "cell_type": "code",
   "execution_count": 6,
   "metadata": {},
   "outputs": [
    {
     "name": "stdout",
     "output_type": "stream",
     "text": [
      "0.9473789602858673\n",
      "0.9478198239864548\n"
     ]
    }
   ],
   "source": [
    "prediction = ensemble.predict_proba(Xtr)\n",
    "predictions = np.mean(np.array([prediction]), axis=0)\n",
    "\n",
    "false_positive_rate, true_positive_rate, thresholds = roc_curve(Ytr, predictions[:, 1])\n",
    "roc_auc = auc(false_positive_rate, true_positive_rate)\n",
    "print(roc_auc)\n",
    "    \n",
    "    \n",
    "    \n",
    "prediction = ensemble.predict_proba(Xva)\n",
    "predictions = np.mean(np.array([prediction]), axis=0)\n",
    "\n",
    "false_positive_rate, true_positive_rate, thresholds = roc_curve(Yva, predictions[:, 1])\n",
    "roc_auc = auc(false_positive_rate, true_positive_rate)\n",
    "print(roc_auc)\n",
    "    \n",
    "    \n",
    "np.savetxt('Ensemble2_predictions.txt',\n",
    "           np.vstack((np.arange(len(predictions)), predictions[:, 1])).T,\n",
    "           '%d, %.2f', header='ID,Prob1', comments='', delimiter=',')"
   ]
  },
  {
   "cell_type": "code",
   "execution_count": null,
   "metadata": {},
   "outputs": [],
   "source": []
  }
 ],
 "metadata": {
  "kernelspec": {
   "display_name": "Python 3",
   "language": "python",
   "name": "python3"
  },
  "language_info": {
   "codemirror_mode": {
    "name": "ipython",
    "version": 3
   },
   "file_extension": ".py",
   "mimetype": "text/x-python",
   "name": "python",
   "nbconvert_exporter": "python",
   "pygments_lexer": "ipython3",
   "version": "3.8.5"
  }
 },
 "nbformat": 4,
 "nbformat_minor": 4
}
